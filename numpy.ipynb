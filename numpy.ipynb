{
 "cells": [
  {
   "attachments": {},
   "cell_type": "markdown",
   "metadata": {},
   "source": [
    "## EVALUACIÓN 3: MODULO 2, SPRINT 1"
   ]
  },
  {
   "attachments": {},
   "cell_type": "markdown",
   "metadata": {},
   "source": [
    "### Ejercicios de NumPy"
   ]
  },
  {
   "attachments": {},
   "cell_type": "markdown",
   "metadata": {},
   "source": [
    "1- Importa la librería de NumPy. ✅"
   ]
  },
  {
   "cell_type": "code",
   "execution_count": 5,
   "metadata": {},
   "outputs": [],
   "source": [
    "import numpy as np"
   ]
  },
  {
   "attachments": {},
   "cell_type": "markdown",
   "metadata": {},
   "source": [
    "2- Crea un array de 1 dimension y 10 elementos."
   ]
  },
  {
   "cell_type": "code",
   "execution_count": 6,
   "metadata": {},
   "outputs": [
    {
     "data": {
      "text/plain": [
       "array([79,  4, 83, 42, 15, 61, 37, 86,  1, 93])"
      ]
     },
     "execution_count": 6,
     "metadata": {},
     "output_type": "execute_result"
    }
   ],
   "source": [
    "# utilizamos el metodo de numpy random.randint para crear un array aleatorio de numeros enteros (0-100)\n",
    "mi_array = np.random.randint(0,100, (10))\n",
    "mi_array"
   ]
  },
  {
   "attachments": {},
   "cell_type": "markdown",
   "metadata": {},
   "source": [
    "3- Reemplaza todos los números impares por el valor \"par\" y los pares por \"par\". Para hacer esto os tendréis que crear un array nuevo donde vayáis añadiendo los valores nuevos."
   ]
  },
  {
   "cell_type": "code",
   "execution_count": 7,
   "metadata": {},
   "outputs": [],
   "source": [
    "# creamos una función que remplace los números por el texto deseado\n",
    "def par_impar(array):\n",
    "    '''\n",
    "    Función que combierte un array numérico a otro del mismo tamaño donde los números\n",
    "    se intercambian por strings que indican si dicho número era par o impar.\n",
    "\n",
    "    Parametro: la función necesita un array numérico\n",
    "    Return: devuelve un array con strings 'par' o 'impar' en función del parámetro dado\n",
    "    '''\n",
    "    \n",
    "    lista_texto = []\n",
    "    for a in array:\n",
    "        if a % 2 == 0:\n",
    "            lista_texto.append('par')\n",
    "        else:\n",
    "            lista_texto.append('impar')\n",
    "    array_texto = np.array(lista_texto)\n",
    "    return array_texto"
   ]
  },
  {
   "cell_type": "code",
   "execution_count": 8,
   "metadata": {},
   "outputs": [
    {
     "data": {
      "text/plain": [
       "array(['impar', 'par', 'impar', 'par', 'impar', 'impar', 'impar', 'par',\n",
       "       'impar', 'impar'], dtype='<U5')"
      ]
     },
     "execution_count": 8,
     "metadata": {},
     "output_type": "execute_result"
    }
   ],
   "source": [
    "array_resultado = par_impar(mi_array)\n",
    "array_resultado"
   ]
  },
  {
   "attachments": {},
   "cell_type": "markdown",
   "metadata": {},
   "source": [
    "4- Cambiad la forma del array del ejercicio 3 a un array de 2 filas y 5 columnas."
   ]
  },
  {
   "cell_type": "code",
   "execution_count": 9,
   "metadata": {},
   "outputs": [
    {
     "data": {
      "text/plain": [
       "array([['impar', 'par', 'impar', 'par', 'impar'],\n",
       "       ['impar', 'impar', 'par', 'impar', 'impar']], dtype='<U5')"
      ]
     },
     "execution_count": 9,
     "metadata": {},
     "output_type": "execute_result"
    }
   ],
   "source": [
    "# utilizamos el método .reshape() de numpy\n",
    "array_cambiado = array_resultado.reshape(2,5)\n",
    "array_cambiado"
   ]
  },
  {
   "attachments": {},
   "cell_type": "markdown",
   "metadata": {},
   "source": [
    "5- Extrae los elementos comunes de los siguientes arrays"
   ]
  },
  {
   "cell_type": "code",
   "execution_count": 10,
   "metadata": {},
   "outputs": [],
   "source": [
    "array1 = np.array([1,2,3,2,3,4,3,4,5,6])\n",
    "array2 = np.array([7,2,10,2,7,4,9,4,9,8])"
   ]
  },
  {
   "cell_type": "code",
   "execution_count": 11,
   "metadata": {},
   "outputs": [
    {
     "data": {
      "text/plain": [
       "array([2, 4])"
      ]
     },
     "execution_count": 11,
     "metadata": {},
     "output_type": "execute_result"
    }
   ],
   "source": [
    "# utilizamos el método .intersect1d() para encontrar los elementos comunes\n",
    "np.intersect1d(array1, array2)"
   ]
  },
  {
   "attachments": {},
   "cell_type": "markdown",
   "metadata": {},
   "source": [
    "6- Extraed los elementos que están en el array1 pero no en el array2."
   ]
  },
  {
   "cell_type": "code",
   "execution_count": 12,
   "metadata": {},
   "outputs": [
    {
     "data": {
      "text/plain": [
       "array([1, 3, 5, 6])"
      ]
     },
     "execution_count": 12,
     "metadata": {},
     "output_type": "execute_result"
    }
   ],
   "source": [
    "np.setdiff1d(array1, array2)"
   ]
  },
  {
   "attachments": {},
   "cell_type": "markdown",
   "metadata": {},
   "source": [
    "7- Extraed las posiciones donde tengamos elementos que sean iguales."
   ]
  },
  {
   "cell_type": "code",
   "execution_count": 13,
   "metadata": {},
   "outputs": [
    {
     "data": {
      "text/plain": [
       "(array([1, 5]), array([1, 5]))"
      ]
     },
     "execution_count": 13,
     "metadata": {},
     "output_type": "execute_result"
    }
   ],
   "source": [
    "posiciones = np.intersect1d(array1, array2, return_indices=True)[1:]\n",
    "posiciones"
   ]
  },
  {
   "attachments": {},
   "cell_type": "markdown",
   "metadata": {},
   "source": [
    "8- Cread un array de 3 filas y 5 columnas, con números enteros del 0 al 50. Una vez creado, extrae los valores que sean menores que 10 y mayores que 40."
   ]
  },
  {
   "cell_type": "code",
   "execution_count": 14,
   "metadata": {},
   "outputs": [
    {
     "data": {
      "text/plain": [
       "array([[ 5, 25, 17, 46, 34],\n",
       "       [ 8, 10, 25, 21,  8],\n",
       "       [ 0, 29, 29, 49, 25]])"
      ]
     },
     "execution_count": 14,
     "metadata": {},
     "output_type": "execute_result"
    }
   ],
   "source": [
    "mi_array2 = np.random.randint(0,50, (3,5))\n",
    "mi_array2"
   ]
  },
  {
   "cell_type": "code",
   "execution_count": 15,
   "metadata": {},
   "outputs": [],
   "source": [
    "def diez_cuarenta(array):\n",
    "    '''\n",
    "    Función que coje un array bidimensional y devuelve en una lista los valores\n",
    "    menores de 10 y mayores de 40.\n",
    "\n",
    "    Parámetro: un array bidimensional\n",
    "    Return: devuelve una lista con los numeros que cumplen las condiciones dadas\n",
    "    '''\n",
    "    lista_numeros= []\n",
    "    for a in mi_array2:\n",
    "        for n in a:\n",
    "            if n < 10:\n",
    "                lista_numeros.append(n)\n",
    "            elif n > 40:\n",
    "                lista_numeros.append(n)\n",
    "            else:\n",
    "                pass\n",
    "    return lista_numeros"
   ]
  },
  {
   "cell_type": "code",
   "execution_count": 16,
   "metadata": {},
   "outputs": [
    {
     "data": {
      "text/plain": [
       "[5, 46, 8, 8, 0, 49]"
      ]
     },
     "execution_count": 16,
     "metadata": {},
     "output_type": "execute_result"
    }
   ],
   "source": [
    "array1040 = diez_cuarenta(mi_array2)\n",
    "array1040"
   ]
  },
  {
   "attachments": {},
   "cell_type": "markdown",
   "metadata": {},
   "source": [
    "9- Cread un array de 5x3 con números decimales aleatorios entre el 5 y el 10."
   ]
  },
  {
   "cell_type": "code",
   "execution_count": 17,
   "metadata": {},
   "outputs": [
    {
     "data": {
      "text/plain": [
       "array([7.18806836, 8.3688788 , 9.06740822, 5.43776262, 5.82198294,\n",
       "       5.88533699, 9.00477298, 9.76710951, 5.7174254 , 8.85537722])"
      ]
     },
     "execution_count": 17,
     "metadata": {},
     "output_type": "execute_result"
    }
   ],
   "source": [
    "# existe la funcion de numpy random.uniform(), similar a random.randint() pero para numeros decimales\n",
    "mi_array3 = np.random.uniform(5,10, (10))\n",
    "mi_array3"
   ]
  },
  {
   "attachments": {},
   "cell_type": "markdown",
   "metadata": {},
   "source": [
    "10- Crea un array de tres dimensiones de 2x4x7 con números entre el 1 y el 20"
   ]
  },
  {
   "cell_type": "code",
   "execution_count": 18,
   "metadata": {},
   "outputs": [
    {
     "data": {
      "text/plain": [
       "array([[[2, 3, 6, 3, 3, 8, 2],\n",
       "        [8, 5, 2, 8, 0, 0, 2],\n",
       "        [7, 1, 3, 4, 8, 7, 5],\n",
       "        [1, 4, 5, 4, 5, 6, 3]],\n",
       "\n",
       "       [[4, 7, 6, 6, 2, 6, 1],\n",
       "        [5, 1, 7, 0, 1, 4, 1],\n",
       "        [4, 2, 4, 0, 7, 0, 0],\n",
       "        [8, 1, 7, 8, 0, 4, 0]]])"
      ]
     },
     "execution_count": 18,
     "metadata": {},
     "output_type": "execute_result"
    }
   ],
   "source": [
    "mi_array4 = np.random.randint(0,9,(2,4,7))\n",
    "mi_array4"
   ]
  },
  {
   "attachments": {},
   "cell_type": "markdown",
   "metadata": {},
   "source": [
    "- Transponed el array para que tenga 4 matrices, 7 filas y 2 columnas"
   ]
  },
  {
   "cell_type": "code",
   "execution_count": 19,
   "metadata": {},
   "outputs": [
    {
     "data": {
      "text/plain": [
       "array([[[2, 4],\n",
       "        [3, 7],\n",
       "        [6, 6],\n",
       "        [3, 6],\n",
       "        [3, 2],\n",
       "        [8, 6],\n",
       "        [2, 1]],\n",
       "\n",
       "       [[8, 5],\n",
       "        [5, 1],\n",
       "        [2, 7],\n",
       "        [8, 0],\n",
       "        [0, 1],\n",
       "        [0, 4],\n",
       "        [2, 1]],\n",
       "\n",
       "       [[7, 4],\n",
       "        [1, 2],\n",
       "        [3, 4],\n",
       "        [4, 0],\n",
       "        [8, 7],\n",
       "        [7, 0],\n",
       "        [5, 0]],\n",
       "\n",
       "       [[1, 8],\n",
       "        [4, 1],\n",
       "        [5, 7],\n",
       "        [4, 8],\n",
       "        [5, 0],\n",
       "        [6, 4],\n",
       "        [3, 0]]])"
      ]
     },
     "execution_count": 19,
     "metadata": {},
     "output_type": "execute_result"
    }
   ],
   "source": [
    "array_cambiado = np.transpose(mi_array4, (1,2,0))\n",
    "array_cambiado"
   ]
  }
 ],
 "metadata": {
  "kernelspec": {
   "display_name": "base",
   "language": "python",
   "name": "python3"
  },
  "language_info": {
   "codemirror_mode": {
    "name": "ipython",
    "version": 3
   },
   "file_extension": ".py",
   "mimetype": "text/x-python",
   "name": "python",
   "nbconvert_exporter": "python",
   "pygments_lexer": "ipython3",
   "version": "3.9.7"
  },
  "orig_nbformat": 4
 },
 "nbformat": 4,
 "nbformat_minor": 2
}
