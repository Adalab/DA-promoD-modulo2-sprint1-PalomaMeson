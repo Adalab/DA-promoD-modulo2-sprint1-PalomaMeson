{
 "cells": [
  {
   "attachments": {},
   "cell_type": "markdown",
   "metadata": {},
   "source": [
    "## EVALUACIÓN 3: MODULO 2, SPRINT 1"
   ]
  },
  {
   "attachments": {},
   "cell_type": "markdown",
   "metadata": {},
   "source": [
    "### Ejercicios de NumPy"
   ]
  },
  {
   "attachments": {},
   "cell_type": "markdown",
   "metadata": {},
   "source": [
    "1- Importa la librería de NumPy. ✅"
   ]
  },
  {
   "cell_type": "code",
   "execution_count": 1,
   "metadata": {},
   "outputs": [],
   "source": [
    "import numpy as np"
   ]
  },
  {
   "attachments": {},
   "cell_type": "markdown",
   "metadata": {},
   "source": [
    "2- Crea un array de 1 dimension y 10 elementos."
   ]
  },
  {
   "cell_type": "code",
   "execution_count": 2,
   "metadata": {},
   "outputs": [
    {
     "data": {
      "text/plain": [
       "array([71, 78, 42, 89, 56, 19, 52, 68, 77, 90])"
      ]
     },
     "execution_count": 2,
     "metadata": {},
     "output_type": "execute_result"
    }
   ],
   "source": [
    "# utilizamos el metodo de numpy random.randint para crear un array aleatorio de numeros enteros (0-100)\n",
    "mi_array = np.random.randint(0,100, (10))\n",
    "mi_array"
   ]
  },
  {
   "attachments": {},
   "cell_type": "markdown",
   "metadata": {},
   "source": [
    "3- Reemplaza todos los números impares por el valor \"par\" y los pares por \"par\". Para hacer esto os tendréis que crear un array nuevo donde vayáis añadiendo los valores nuevos."
   ]
  },
  {
   "cell_type": "code",
   "execution_count": 13,
   "metadata": {},
   "outputs": [],
   "source": [
    "# creamos una función que remplace los números por el texto deseado\n",
    "def par_impar(array):\n",
    "    '''\n",
    "    Función que combierte un array numérico a otro del mismo tamaño donde los números\n",
    "    se intercambian por strings que indican si dicho número era par o impar.\n",
    "\n",
    "    Parametro: la función necesita un array numérico\n",
    "    Return: devuelve un array con strings 'par' o 'impar' en función del parámetro dado\n",
    "    '''\n",
    "    \n",
    "    lista_texto = []\n",
    "    for a in array:\n",
    "        if a % 2 == 0:\n",
    "            lista_texto.append('par')\n",
    "        else:\n",
    "            lista_texto.append('impar')\n",
    "    array_texto = np.array(lista_texto)\n",
    "    return array_texto"
   ]
  },
  {
   "cell_type": "code",
   "execution_count": 14,
   "metadata": {},
   "outputs": [
    {
     "data": {
      "text/plain": [
       "array(['impar', 'par', 'par', 'impar', 'par', 'impar', 'par', 'par',\n",
       "       'impar', 'par'], dtype='<U5')"
      ]
     },
     "execution_count": 14,
     "metadata": {},
     "output_type": "execute_result"
    }
   ],
   "source": [
    "array_resultado = par_impar(mi_array)\n",
    "array_resultado"
   ]
  },
  {
   "attachments": {},
   "cell_type": "markdown",
   "metadata": {},
   "source": [
    "4- Cambiad la forma del array del ejercicio 3 a un array de 2 filas y 5 columnas."
   ]
  },
  {
   "cell_type": "code",
   "execution_count": 9,
   "metadata": {},
   "outputs": [
    {
     "data": {
      "text/plain": [
       "array([['impar', 'par', 'impar', 'par', 'impar'],\n",
       "       ['impar', 'impar', 'par', 'impar', 'impar']], dtype='<U5')"
      ]
     },
     "execution_count": 9,
     "metadata": {},
     "output_type": "execute_result"
    }
   ],
   "source": [
    "# utilizamos el método .reshape() de numpy\n",
    "array_cambiado = array_resultado.reshape(2,5)\n",
    "array_cambiado"
   ]
  },
  {
   "attachments": {},
   "cell_type": "markdown",
   "metadata": {},
   "source": [
    "5- Extrae los elementos comunes de los siguientes arrays"
   ]
  },
  {
   "cell_type": "code",
   "execution_count": 22,
   "metadata": {},
   "outputs": [],
   "source": [
    "array1 = np.array([1,2,3,2,3,4,3,4,5,6])\n",
    "array2 = np.array([7,2,10,2,7,4,9,4,9,8])"
   ]
  },
  {
   "cell_type": "code",
   "execution_count": 23,
   "metadata": {},
   "outputs": [
    {
     "data": {
      "text/plain": [
       "array([2, 4])"
      ]
     },
     "execution_count": 23,
     "metadata": {},
     "output_type": "execute_result"
    }
   ],
   "source": [
    "# utilizamos el método .intersect1d() para encontrar los elementos comunes\n",
    "np.intersect1d(array1, array2)"
   ]
  },
  {
   "attachments": {},
   "cell_type": "markdown",
   "metadata": {},
   "source": [
    "6- Extraed los elementos que están en el array1 pero no en el array2."
   ]
  },
  {
   "cell_type": "code",
   "execution_count": 24,
   "metadata": {},
   "outputs": [
    {
     "data": {
      "text/plain": [
       "array([1, 3, 5, 6])"
      ]
     },
     "execution_count": 24,
     "metadata": {},
     "output_type": "execute_result"
    }
   ],
   "source": [
    "np.setdiff1d(array1, array2)"
   ]
  },
  {
   "attachments": {},
   "cell_type": "markdown",
   "metadata": {},
   "source": [
    "7- Extraed las posiciones donde tengamos elementos que sean iguales."
   ]
  },
  {
   "cell_type": "code",
   "execution_count": 32,
   "metadata": {},
   "outputs": [
    {
     "data": {
      "text/plain": [
       "(array([1, 5]), array([1, 5]))"
      ]
     },
     "execution_count": 32,
     "metadata": {},
     "output_type": "execute_result"
    }
   ],
   "source": [
    "# no tiene en cuenta valores repetidos\n",
    "posiciones = np.intersect1d(array1, array2, return_indices=True)[1:]\n",
    "posiciones"
   ]
  },
  {
   "cell_type": "code",
   "execution_count": 29,
   "metadata": {},
   "outputs": [
    {
     "data": {
      "text/plain": [
       "(array([1, 3, 5, 7]),)"
      ]
     },
     "execution_count": 29,
     "metadata": {},
     "output_type": "execute_result"
    }
   ],
   "source": [
    "# posiciones del array1 contando numeros repetidos\n",
    "np.where(array1 == array2)"
   ]
  },
  {
   "cell_type": "code",
   "execution_count": 31,
   "metadata": {},
   "outputs": [
    {
     "data": {
      "text/plain": [
       "(array([1, 3, 5, 7]),)"
      ]
     },
     "execution_count": 31,
     "metadata": {},
     "output_type": "execute_result"
    }
   ],
   "source": [
    "# posiciones del array1 contando números repetidos\n",
    "np.where(array2 == array1)"
   ]
  },
  {
   "attachments": {},
   "cell_type": "markdown",
   "metadata": {},
   "source": [
    "8- Cread un array de 3 filas y 5 columnas, con números enteros del 0 al 50. Una vez creado, extrae los valores que sean menores que 10 y mayores que 40."
   ]
  },
  {
   "cell_type": "code",
   "execution_count": 35,
   "metadata": {},
   "outputs": [
    {
     "data": {
      "text/plain": [
       "array([[24, 25, 38, 34, 14],\n",
       "       [ 8, 11, 38, 21, 15],\n",
       "       [36, 47,  2, 43,  1]])"
      ]
     },
     "execution_count": 35,
     "metadata": {},
     "output_type": "execute_result"
    }
   ],
   "source": [
    "mi_array2 = np.random.randint(0,50, (3,5))\n",
    "mi_array2"
   ]
  },
  {
   "cell_type": "code",
   "execution_count": 36,
   "metadata": {},
   "outputs": [],
   "source": [
    "def diez_cuarenta(array):\n",
    "    '''\n",
    "    Función que coje un array bidimensional y devuelve en una lista los valores\n",
    "    menores de 10 y mayores de 40.\n",
    "\n",
    "    Parámetro: un array bidimensional\n",
    "    Return: devuelve una lista con los numeros que cumplen las condiciones dadas\n",
    "    '''\n",
    "    lista_numeros= []\n",
    "    for a in mi_array2:\n",
    "        for n in a:\n",
    "            if n < 10:\n",
    "                lista_numeros.append(n)\n",
    "            elif n > 40:\n",
    "                lista_numeros.append(n)\n",
    "            else:\n",
    "                pass\n",
    "    return lista_numeros"
   ]
  },
  {
   "cell_type": "code",
   "execution_count": 37,
   "metadata": {},
   "outputs": [
    {
     "data": {
      "text/plain": [
       "[8, 47, 2, 43, 1]"
      ]
     },
     "execution_count": 37,
     "metadata": {},
     "output_type": "execute_result"
    }
   ],
   "source": [
    "array1040 = diez_cuarenta(mi_array2)\n",
    "array1040"
   ]
  },
  {
   "attachments": {},
   "cell_type": "markdown",
   "metadata": {},
   "source": [
    "9- Cread un array de 5x3 con números decimales aleatorios entre el 5 y el 10."
   ]
  },
  {
   "cell_type": "code",
   "execution_count": 38,
   "metadata": {},
   "outputs": [
    {
     "data": {
      "text/plain": [
       "array([5.95142841, 9.60697249, 9.460464  , 9.04167909, 8.92225289,\n",
       "       6.21188347, 6.28451861, 5.71922159, 6.45873134, 7.59009074])"
      ]
     },
     "execution_count": 38,
     "metadata": {},
     "output_type": "execute_result"
    }
   ],
   "source": [
    "# existe la funcion de numpy random.uniform(), similar a random.randint() pero para numeros decimales\n",
    "mi_array3 = np.random.uniform(5,10, (10))\n",
    "mi_array3"
   ]
  },
  {
   "attachments": {},
   "cell_type": "markdown",
   "metadata": {},
   "source": [
    "10- Crea un array de tres dimensiones de 2x4x7 con números entre el 1 y el 20"
   ]
  },
  {
   "cell_type": "code",
   "execution_count": 40,
   "metadata": {},
   "outputs": [
    {
     "data": {
      "text/plain": [
       "array([[[ 1,  8, 12, 14,  8,  9, 16],\n",
       "        [14, 13,  6, 18, 15,  1,  3],\n",
       "        [18, 14, 18,  6, 16,  2,  1],\n",
       "        [ 6,  2, 16, 15, 13, 12,  9]],\n",
       "\n",
       "       [[16, 19, 13, 10, 10,  1,  8],\n",
       "        [11,  2,  7,  9,  2, 14, 14],\n",
       "        [ 5, 19, 16, 11,  6,  2, 15],\n",
       "        [ 7,  7,  2,  8, 18,  5,  2]]])"
      ]
     },
     "execution_count": 40,
     "metadata": {},
     "output_type": "execute_result"
    }
   ],
   "source": [
    "mi_array4 = np.random.randint(1,20,(2,4,7))\n",
    "mi_array4"
   ]
  },
  {
   "attachments": {},
   "cell_type": "markdown",
   "metadata": {},
   "source": [
    "- Transponed el array para que tenga 4 matrices, 7 filas y 2 columnas"
   ]
  },
  {
   "cell_type": "code",
   "execution_count": 41,
   "metadata": {},
   "outputs": [
    {
     "data": {
      "text/plain": [
       "array([[[ 1, 16],\n",
       "        [ 8, 19],\n",
       "        [12, 13],\n",
       "        [14, 10],\n",
       "        [ 8, 10],\n",
       "        [ 9,  1],\n",
       "        [16,  8]],\n",
       "\n",
       "       [[14, 11],\n",
       "        [13,  2],\n",
       "        [ 6,  7],\n",
       "        [18,  9],\n",
       "        [15,  2],\n",
       "        [ 1, 14],\n",
       "        [ 3, 14]],\n",
       "\n",
       "       [[18,  5],\n",
       "        [14, 19],\n",
       "        [18, 16],\n",
       "        [ 6, 11],\n",
       "        [16,  6],\n",
       "        [ 2,  2],\n",
       "        [ 1, 15]],\n",
       "\n",
       "       [[ 6,  7],\n",
       "        [ 2,  7],\n",
       "        [16,  2],\n",
       "        [15,  8],\n",
       "        [13, 18],\n",
       "        [12,  5],\n",
       "        [ 9,  2]]])"
      ]
     },
     "execution_count": 41,
     "metadata": {},
     "output_type": "execute_result"
    }
   ],
   "source": [
    "array_cambiado = np.transpose(mi_array4, (1,2,0))\n",
    "array_cambiado"
   ]
  }
 ],
 "metadata": {
  "kernelspec": {
   "display_name": "base",
   "language": "python",
   "name": "python3"
  },
  "language_info": {
   "codemirror_mode": {
    "name": "ipython",
    "version": 3
   },
   "file_extension": ".py",
   "mimetype": "text/x-python",
   "name": "python",
   "nbconvert_exporter": "python",
   "pygments_lexer": "ipython3",
   "version": "3.9.7"
  },
  "orig_nbformat": 4
 },
 "nbformat": 4,
 "nbformat_minor": 2
}
